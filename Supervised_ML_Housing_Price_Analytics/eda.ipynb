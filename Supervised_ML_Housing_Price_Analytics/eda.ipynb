{
 "cells": [
  {
   "cell_type": "code",
   "execution_count": 70,
   "id": "d4f18bed",
   "metadata": {},
   "outputs": [],
   "source": [
    "# Libraries\n",
    "\n",
    "import numpy as np\n",
    "import pandas as pd\n",
    "import matplotlib.pyplot as plt\n",
    "import seaborn as sns\n",
    "\n",
    "from sklearn.model_selection import train_test_split as tts\n",
    "from sklearn.metrics import confusion_matrix as cm\n",
    "import sklearn.metrics as skm\n",
    "from sklearn.pipeline import Pipeline\n",
    "from sklearn.impute import SimpleImputer\n",
    "from sklearn.preprocessing import StandardScaler, OneHotEncoder\n",
    "from sklearn.compose import ColumnTransformer\n",
    "from sklearn.ensemble import RandomForestRegressor as rfr\n",
    "from sklearn.linear_model import LinearRegression\n",
    "from sklearn.metrics import mean_squared_error as mse\n",
    "\n",
    "from xgboost import XGBRegressor\n",
    "import xgboost as xgb"
   ]
  },
  {
   "cell_type": "code",
   "execution_count": 52,
   "id": "d8c1a065",
   "metadata": {},
   "outputs": [],
   "source": [
    "pd.set_option('display.max_columns', None)"
   ]
  },
  {
   "cell_type": "markdown",
   "id": "d4eb457b",
   "metadata": {},
   "source": [
    "### Load Data"
   ]
  },
  {
   "cell_type": "code",
   "execution_count": 77,
   "id": "42f7e540",
   "metadata": {},
   "outputs": [
    {
     "name": "stdout",
     "output_type": "stream",
     "text": [
      "Train shape: (1460, 81)\n",
      "Test shape: (1459, 80)\n"
     ]
    }
   ],
   "source": [
    "train_df = pd.read_csv(\"Data/train.csv\")\n",
    "test_df = pd.read_csv(\"Data/test.csv\")\n",
    "\n",
    "print(\"Train shape:\", train_df.shape)\n",
    "print(\"Test shape:\", test_df.shape)"
   ]
  },
  {
   "cell_type": "markdown",
   "id": "cf321310",
   "metadata": {},
   "source": [
    "### Combine Data"
   ]
  },
  {
   "cell_type": "code",
   "execution_count": 78,
   "id": "385c9888",
   "metadata": {},
   "outputs": [
    {
     "name": "stdout",
     "output_type": "stream",
     "text": [
      "Combined data shape: (2919, 79)\n"
     ]
    }
   ],
   "source": [
    "train_ID = train_df['Id']\n",
    "test_ID = test_df['Id']\n",
    "\n",
    "y_train = train_df['SalePrice']\n",
    "\n",
    "# drop ID and target\n",
    "train_df.drop(['Id','SalePrice'], axis=1, inplace=True)\n",
    "test_df.drop(['Id'], axis=1, inplace=True)\n",
    "\n",
    "all_data = pd.concat([train_df, test_df]).reset_index(drop=True)\n",
    "print(\"Combined data shape:\", all_data.shape)\n"
   ]
  },
  {
   "cell_type": "markdown",
   "id": "71e95696",
   "metadata": {},
   "source": [
    "### Data Pre-processing"
   ]
  },
  {
   "cell_type": "markdown",
   "id": "28c876ff",
   "metadata": {},
   "source": [
    "##### 1. Missing Values Handling"
   ]
  },
  {
   "cell_type": "code",
   "execution_count": 79,
   "id": "2fca3096",
   "metadata": {},
   "outputs": [],
   "source": [
    "# Fill categorical missing with 'None'\n",
    "for col in ['PoolQC','MiscFeature','Alley','Fence','FireplaceQu',\n",
    "            'GarageType','GarageFinish','GarageQual','GarageCond',\n",
    "            'BsmtQual','BsmtCond','BsmtExposure','BsmtFinType1','BsmtFinType2','MasVnrType']:\n",
    "    all_data[col] = all_data[col].fillna('None')\n",
    "\n",
    "# Fill numerical missing with 0\n",
    "for col in ['GarageYrBlt','GarageArea','GarageCars',\n",
    "            'BsmtFinSF1','BsmtFinSF2','BsmtUnfSF','TotalBsmtSF',\n",
    "            'BsmtFullBath','BsmtHalfBath','MasVnrArea']:\n",
    "    all_data[col] = all_data[col].fillna(0)\n",
    "\n",
    "# Fill mode\n",
    "all_data['Electrical'] = all_data['Electrical'].fillna(all_data['Electrical'].mode()[0])\n",
    "\n",
    "# LotFrontage → fill by median of neighborhood\n",
    "all_data['LotFrontage'] = all_data.groupby('Neighborhood')['LotFrontage'].transform(lambda x: x.fillna(x.median()))\n"
   ]
  },
  {
   "cell_type": "markdown",
   "id": "8e38b97e",
   "metadata": {},
   "source": [
    "##### 2. Feature Engineering"
   ]
  },
  {
   "cell_type": "code",
   "execution_count": 80,
   "id": "9c599138",
   "metadata": {},
   "outputs": [],
   "source": [
    "# Total square footage\n",
    "all_data['TotalSF'] = all_data['TotalBsmtSF'] + all_data['1stFlrSF'] + all_data['2ndFlrSF']\n",
    "\n",
    "# Total bathrooms\n",
    "all_data['TotalBath'] = (all_data['FullBath'] + 0.5*all_data['HalfBath'] +\n",
    "                         all_data['BsmtFullBath'] + 0.5*all_data['BsmtHalfBath'])\n",
    "\n",
    "# Total porch area\n",
    "all_data['TotalPorchSF'] = (all_data['OpenPorchSF'] + all_data['EnclosedPorch'] +\n",
    "                            all_data['3SsnPorch'] + all_data['ScreenPorch'])\n",
    "\n",
    "# Convert some categorical ordinals to numbers\n",
    "quality_map = {'None':0, 'Po':1, 'Fa':2, 'TA':3, 'Gd':4, 'Ex':5}\n",
    "for col in ['ExterQual','ExterCond','BsmtQual','BsmtCond','HeatingQC','KitchenQual',\n",
    "            'FireplaceQu','GarageQual','GarageCond']:\n",
    "    all_data[col] = all_data[col].map(quality_map).fillna(0)\n"
   ]
  },
  {
   "cell_type": "markdown",
   "id": "e14507ae",
   "metadata": {},
   "source": [
    "##### 3. Handling Skewness"
   ]
  },
  {
   "cell_type": "code",
   "execution_count": 81,
   "id": "c56c80fc",
   "metadata": {},
   "outputs": [],
   "source": [
    "numeric_feats = all_data.dtypes[all_data.dtypes != \"object\"].index\n",
    "skewed_feats = all_data[numeric_feats].apply(lambda x: x.dropna().skew()).sort_values(ascending=False)\n",
    "skewed = skewed_feats[skewed_feats > 0.75].index\n",
    "\n",
    "all_data[skewed] = np.log1p(all_data[skewed])\n",
    "\n",
    "# Log-transform target variable too\n",
    "y_train = np.log1p(y_train)"
   ]
  },
  {
   "cell_type": "markdown",
   "id": "42ece390",
   "metadata": {},
   "source": [
    "##### 4. Encoding Categoricals"
   ]
  },
  {
   "cell_type": "code",
   "execution_count": 82,
   "id": "b52451c2",
   "metadata": {},
   "outputs": [
    {
     "name": "stdout",
     "output_type": "stream",
     "text": [
      "Final all_data shape: (2919, 268)\n"
     ]
    }
   ],
   "source": [
    "all_data = pd.get_dummies(all_data)\n",
    "\n",
    "print(\"Final all_data shape:\", all_data.shape)"
   ]
  }
 ],
 "metadata": {
  "kernelspec": {
   "display_name": "Python 3",
   "language": "python",
   "name": "python3"
  },
  "language_info": {
   "codemirror_mode": {
    "name": "ipython",
    "version": 3
   },
   "file_extension": ".py",
   "mimetype": "text/x-python",
   "name": "python",
   "nbconvert_exporter": "python",
   "pygments_lexer": "ipython3",
   "version": "3.12.3"
  }
 },
 "nbformat": 4,
 "nbformat_minor": 5
}
